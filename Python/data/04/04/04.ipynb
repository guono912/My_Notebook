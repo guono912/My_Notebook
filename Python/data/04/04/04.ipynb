{
 "cells": [
  {
   "cell_type": "markdown",
   "metadata": {
    "toc": true
   },
   "source": [
    "<h1>Table of Contents<span class=\"tocSkip\"></span></h1>\n",
    "<div class=\"toc\"><ul class=\"toc-item\"><li><span><a href=\"#Python-机器学习算法库-:-scikit-learn\" data-toc-modified-id=\"Python-机器学习算法库-:-scikit-learn-1\"><span class=\"toc-item-num\">1&nbsp;&nbsp;</span>Python 机器学习算法库 : scikit-learn</a></span></li><li><span><a href=\"#以手写数字识别为例\" data-toc-modified-id=\"以手写数字识别为例-2\"><span class=\"toc-item-num\">2&nbsp;&nbsp;</span>以手写数字识别为例</a></span><ul class=\"toc-item\"><li><span><a href=\"#加载工具包\" data-toc-modified-id=\"加载工具包-2.1\"><span class=\"toc-item-num\">2.1&nbsp;&nbsp;</span>加载工具包</a></span></li><li><span><a href=\"#准备数据\" data-toc-modified-id=\"准备数据-2.2\"><span class=\"toc-item-num\">2.2&nbsp;&nbsp;</span>准备数据</a></span></li><li><span><a href=\"#创建支持向量分类器\" data-toc-modified-id=\"创建支持向量分类器-2.3\"><span class=\"toc-item-num\">2.3&nbsp;&nbsp;</span>创建支持向量分类器</a></span></li><li><span><a href=\"#训练\" data-toc-modified-id=\"训练-2.4\"><span class=\"toc-item-num\">2.4&nbsp;&nbsp;</span>训练</a></span></li><li><span><a href=\"#预测\" data-toc-modified-id=\"预测-2.5\"><span class=\"toc-item-num\">2.5&nbsp;&nbsp;</span>预测</a></span></li><li><span><a href=\"#输出结果\" data-toc-modified-id=\"输出结果-2.6\"><span class=\"toc-item-num\">2.6&nbsp;&nbsp;</span>输出结果</a></span></li></ul></li><li><span><a href=\"#应用举例\" data-toc-modified-id=\"应用举例-3\"><span class=\"toc-item-num\">3&nbsp;&nbsp;</span>应用举例</a></span></li></ul></div>"
   ]
  },
  {
   "cell_type": "markdown",
   "metadata": {},
   "source": [
    "# Python 机器学习算法库 : scikit-learn\n",
    "\n",
    "Machine Learning in Python: http://scikit-learn.org/stable/\n",
    "<img src=\"./sklearn.png\" width = \"800\"  align=center >\n",
    "<center>图1. scikit-learn 界面 </center>"
   ]
  },
  {
   "cell_type": "markdown",
   "metadata": {},
   "source": [
    "\n",
    "# 以手写数字识别为例\n",
    "\n",
    "这是使用`sklearn`进行手写数字识别的例子. 参见 http://scikit-learn.org/stable/tutorial/index.html"
   ]
  },
  {
   "cell_type": "markdown",
   "metadata": {},
   "source": [
    "## 加载工具包"
   ]
  },
  {
   "cell_type": "code",
   "execution_count": 3,
   "metadata": {},
   "outputs": [],
   "source": [
    "# 加载画图工具包\n",
    "import matplotlib.pyplot as plt\n",
    "%matplotlib inline\n",
    "# 加载sklearn相关工具包\n",
    "from sklearn import datasets, svm, metrics\n"
   ]
  },
  {
   "cell_type": "markdown",
   "metadata": {},
   "source": [
    "## 准备数据\n",
    "\n",
    "+ 本数据集由1797组8x8的手写数字图像组成\n",
    "+ images 按矩阵方式存储图片\n",
    "+ target 图片标签，即图片所表示的真实数字\n"
   ]
  },
  {
   "cell_type": "code",
   "execution_count": 4,
   "metadata": {},
   "outputs": [],
   "source": [
    "# 导入数据\n",
    "digits = datasets.load_digits()"
   ]
  },
  {
   "cell_type": "code",
   "execution_count": 5,
   "metadata": {},
   "outputs": [
    {
     "data": {
      "text/plain": [
       "array([[ 0.,  0.,  5., 13.,  9.,  1.,  0.,  0.],\n",
       "       [ 0.,  0., 13., 15., 10., 15.,  5.,  0.],\n",
       "       [ 0.,  3., 15.,  2.,  0., 11.,  8.,  0.],\n",
       "       [ 0.,  4., 12.,  0.,  0.,  8.,  8.,  0.],\n",
       "       [ 0.,  5.,  8.,  0.,  0.,  9.,  8.,  0.],\n",
       "       [ 0.,  4., 11.,  0.,  1., 12.,  7.,  0.],\n",
       "       [ 0.,  2., 14.,  5., 10., 12.,  0.,  0.],\n",
       "       [ 0.,  0.,  6., 13., 10.,  0.,  0.,  0.]])"
      ]
     },
     "execution_count": 5,
     "metadata": {},
     "output_type": "execute_result"
    }
   ],
   "source": [
    "# 查看数据\n",
    "digits.images[0]"
   ]
  },
  {
   "cell_type": "code",
   "execution_count": 6,
   "metadata": {},
   "outputs": [
    {
     "data": {
      "text/plain": [
       "array([0, 1, 2, ..., 8, 9, 8])"
      ]
     },
     "execution_count": 6,
     "metadata": {},
     "output_type": "execute_result"
    }
   ],
   "source": [
    "digits.target"
   ]
  },
  {
   "cell_type": "code",
   "execution_count": 7,
   "metadata": {},
   "outputs": [
    {
     "data": {
      "image/png": "[encoded data removed]",
      "text/plain": [
       "<matplotlib.figure.Figure at 0x10e1e08d0>"
      ]
     },
     "metadata": {},
     "output_type": "display_data"
    }
   ],
   "source": [
    "# 查看前四组图像\n",
    "images_and_labels = list(zip(digits.images, digits.target))\n",
    "for index, (image, label) in enumerate(images_and_labels[:4]):\n",
    "    plt.subplot(2, 4, index + 1)\n",
    "    plt.axis('off')\n",
    "    plt.imshow(image, cmap=plt.cm.gray_r, interpolation='nearest')\n",
    "    plt.title('Training: %i' % label)"
   ]
  },
  {
   "cell_type": "code",
   "execution_count": 8,
   "metadata": {},
   "outputs": [],
   "source": [
    "# 将图像数据转换为向量存储\n",
    "n_samples = len(digits.images)\n",
    "data = digits.images.reshape((n_samples, -1))"
   ]
  },
  {
   "cell_type": "markdown",
   "metadata": {},
   "source": [
    "## 创建支持向量分类器"
   ]
  },
  {
   "cell_type": "code",
   "execution_count": 9,
   "metadata": {},
   "outputs": [],
   "source": [
    "# Create a classifier: a support vector classifier\n",
    "classifier = svm.SVC(gamma=0.001)"
   ]
  },
  {
   "cell_type": "markdown",
   "metadata": {},
   "source": [
    "## 训练"
   ]
  },
  {
   "cell_type": "code",
   "execution_count": 10,
   "metadata": {},
   "outputs": [
    {
     "data": {
      "text/plain": [
       "SVC(C=1.0, cache_size=200, class_weight=None, coef0=0.0,\n",
       "  decision_function_shape='ovr', degree=3, gamma=0.001, kernel='rbf',\n",
       "  max_iter=-1, probability=False, random_state=None, shrinking=True,\n",
       "  tol=0.001, verbose=False)"
      ]
     },
     "execution_count": 10,
     "metadata": {},
     "output_type": "execute_result"
    }
   ],
   "source": [
    "# 利用前一半数据进行训练\n",
    "classifier.fit(data[:n_samples // 2], digits.target[:n_samples // 2])"
   ]
  },
  {
   "cell_type": "markdown",
   "metadata": {},
   "source": [
    "## 预测"
   ]
  },
  {
   "cell_type": "code",
   "execution_count": 11,
   "metadata": {},
   "outputs": [],
   "source": [
    "# 对后半组数据进行预测\n",
    "expected = digits.target[n_samples // 2:]\n",
    "predicted = classifier.predict(data[n_samples // 2:])"
   ]
  },
  {
   "cell_type": "markdown",
   "metadata": {},
   "source": [
    "## 输出结果"
   ]
  },
  {
   "cell_type": "code",
   "execution_count": 12,
   "metadata": {},
   "outputs": [
    {
     "name": "stdout",
     "output_type": "stream",
     "text": [
      "Classification report for classifier SVC(C=1.0, cache_size=200, class_weight=None, coef0=0.0,\n",
      "  decision_function_shape='ovr', degree=3, gamma=0.001, kernel='rbf',\n",
      "  max_iter=-1, probability=False, random_state=None, shrinking=True,\n",
      "  tol=0.001, verbose=False):\n",
      "             precision    recall  f1-score   support\n",
      "\n",
      "          0       1.00      0.99      0.99        88\n",
      "          1       0.99      0.97      0.98        91\n",
      "          2       0.99      0.99      0.99        86\n",
      "          3       0.98      0.87      0.92        91\n",
      "          4       0.99      0.96      0.97        92\n",
      "          5       0.95      0.97      0.96        91\n",
      "          6       0.99      0.99      0.99        91\n",
      "          7       0.96      0.99      0.97        89\n",
      "          8       0.94      1.00      0.97        88\n",
      "          9       0.93      0.98      0.95        92\n",
      "\n",
      "avg / total       0.97      0.97      0.97       899\n",
      "\n",
      "\n",
      "Confusion matrix:\n",
      "[[87  0  0  0  1  0  0  0  0  0]\n",
      " [ 0 88  1  0  0  0  0  0  1  1]\n",
      " [ 0  0 85  1  0  0  0  0  0  0]\n",
      " [ 0  0  0 79  0  3  0  4  5  0]\n",
      " [ 0  0  0  0 88  0  0  0  0  4]\n",
      " [ 0  0  0  0  0 88  1  0  0  2]\n",
      " [ 0  1  0  0  0  0 90  0  0  0]\n",
      " [ 0  0  0  0  0  1  0 88  0  0]\n",
      " [ 0  0  0  0  0  0  0  0 88  0]\n",
      " [ 0  0  0  1  0  1  0  0  0 90]]\n"
     ]
    },
    {
     "data": {
      "image/png": "[encoded data removed]",
      "text/plain": [
       "<matplotlib.figure.Figure at 0x1a1471e210>"
      ]
     },
     "metadata": {},
     "output_type": "display_data"
    }
   ],
   "source": [
    "print(\"Classification report for classifier %s:\\n%s\\n\"\n",
    "      % (classifier, metrics.classification_report(expected, predicted)))\n",
    "print(\"Confusion matrix:\\n%s\" % metrics.confusion_matrix(expected, predicted))\n",
    "\n",
    "images_and_predictions = list(zip(digits.images[n_samples // 2:], predicted))\n",
    "for index, (image, prediction) in enumerate(images_and_predictions[:4]):\n",
    "    plt.subplot(2, 4, index + 5)\n",
    "    plt.axis('off')\n",
    "    plt.imshow(image, cmap=plt.cm.gray_r, interpolation='nearest')\n",
    "    plt.title('Prediction: %i' % prediction)\n",
    "\n",
    "plt.show()"
   ]
  },
  {
   "cell_type": "markdown",
   "metadata": {},
   "source": [
    "# 应用举例"
   ]
  },
  {
   "cell_type": "code",
   "execution_count": 13,
   "metadata": {},
   "outputs": [],
   "source": [
    "import numpy as np\n",
    "from PIL import Image\n",
    "import scipy\n",
    "import cv2\n",
    "from fractions import Fraction\n",
    "import warnings\n",
    "warnings.filterwarnings('ignore')"
   ]
  },
  {
   "cell_type": "code",
   "execution_count": 14,
   "metadata": {},
   "outputs": [],
   "source": [
    "# 定义图像转换函数\n",
    "# 通过转换使使图像数据符合训练数据的特征规格\n",
    "def image2Digit(image):\n",
    "    im_resized = scipy.misc.imresize(image, (8,8)) # 调整为8*8大小\n",
    "    im_gray = cv2.cvtColor(im_resized, cv2.COLOR_BGR2GRAY) # RGB（三维）转为灰度图（一维）\n",
    "    im_hex = Fraction(16,255) * im_gray # 将像素值调整为0-16之间\n",
    "    im_reverse = 16 - im_hex # 将图片数据反相\n",
    "    return im_reverse.astype(np.int)"
   ]
  },
  {
   "cell_type": "code",
   "execution_count": 15,
   "metadata": {},
   "outputs": [
    {
     "name": "stdout",
     "output_type": "stream",
     "text": [
      "[[0 0 1 3 1 0 0 0]\n",
      " [0 0 1 1 3 1 0 0]\n",
      " [0 0 0 0 2 2 0 0]\n",
      " [0 0 0 1 3 0 0 0]\n",
      " [0 0 1 3 1 0 0 0]\n",
      " [0 0 5 4 3 3 1 0]\n",
      " [0 0 0 0 0 0 0 0]\n",
      " [0 0 0 0 0 0 0 0]]\n"
     ]
    },
    {
     "data": {
      "image/png": "[encoded data removed]",
      "text/plain": [
       "<matplotlib.figure.Figure at 0x1a146d9990>"
      ]
     },
     "metadata": {},
     "output_type": "display_data"
    }
   ],
   "source": [
    "# 读取单张自定义手写数字的图片\n",
    "image = scipy.misc.imread('two-1.jpeg')\n",
    "# 将图片转为digits训练数据的规格——即统一数据表征方式\n",
    "im_reverse = image2Digit(image)\n",
    "\n",
    "# 查看图片\n",
    "plt.imshow(image)\n",
    "print(im_reverse)"
   ]
  },
  {
   "cell_type": "code",
   "execution_count": 16,
   "metadata": {},
   "outputs": [
    {
     "name": "stdout",
     "output_type": "stream",
     "text": [
      "[7]\n"
     ]
    }
   ],
   "source": [
    "# 查看预测结果\n",
    "reshaped = im_reverse.reshape(1,64) # 8*8转为1*64（预测方法的参数要求）\n",
    "result = classifier.predict(reshaped)\n",
    "print(result)"
   ]
  },
  {
   "cell_type": "code",
   "execution_count": 17,
   "metadata": {},
   "outputs": [
    {
     "name": "stdout",
     "output_type": "stream",
     "text": [
      "[[ 0  2  8 11 11  7  1  0]\n",
      " [ 3 12 13  9 10 14  7  0]\n",
      " [11 12  2  0  0 11 11  0]\n",
      " [ 6  4  0  0  6 14  7  0]\n",
      " [ 0  0  2  8 14 10  1  0]\n",
      " [ 1  5 12 15 10  6  5  3]\n",
      " [10 15 16 15 15 15 15 12]\n",
      " [ 8 14 14 13 11  9  7  3]]\n"
     ]
    },
    {
     "data": {
      "image/png": "[encoded data removed]",
      "text/plain": [
       "<matplotlib.figure.Figure at 0x10a747550>"
      ]
     },
     "metadata": {},
     "output_type": "display_data"
    }
   ],
   "source": [
    "image = scipy.misc.imread('two-2.png') # 读取单张自定义手写数字的图片\n",
    "im_reverse = image2Digit(image) # 将图片转为digits训练数据的规格——即数据的表征方式要统一\n",
    "plt.imshow(image)\n",
    "print(im_reverse) # 显示图片转换后的像素值"
   ]
  },
  {
   "cell_type": "code",
   "execution_count": 18,
   "metadata": {},
   "outputs": [
    {
     "name": "stdout",
     "output_type": "stream",
     "text": [
      "[2]\n"
     ]
    }
   ],
   "source": [
    "# 查看预测结果\n",
    "reshaped = im_reverse.reshape(1,64) # 8*8转为1*64（预测方法的参数要求）\n",
    "result = classifier.predict(reshaped)\n",
    "print(result)"
   ]
  },
  {
   "cell_type": "code",
   "execution_count": 19,
   "metadata": {},
   "outputs": [
    {
     "name": "stdout",
     "output_type": "stream",
     "text": [
      "[[ 0  0  0  0  3  4  0  0]\n",
      " [ 0  0  5 10 12 11  0  0]\n",
      " [ 0  1  8  4  9  8  0  0]\n",
      " [ 0  0  0  1 11  5  0  0]\n",
      " [ 0  0  0  3 12  2  0  0]\n",
      " [ 0  0  0  4 11  0  0  0]\n",
      " [ 0  0  0  6  8  0  0  0]\n",
      " [ 0  0  0  5  5  0  0  0]]\n"
     ]
    },
    {
     "data": {
      "image/png": "[encoded data removed]",
      "text/plain": [
       "<matplotlib.figure.Figure at 0x1a14716150>"
      ]
     },
     "metadata": {},
     "output_type": "display_data"
    }
   ],
   "source": [
    "image = scipy.misc.imread('seven-1.png') # 读取单张自定义手写数字的图片\n",
    "im_reverse = image2Digit(image) # 将图片转为digits训练数据的规格——即数据的表征方式要统一\n",
    "plt.imshow(image)\n",
    "print(im_reverse) # 显示图片转换后的像素值"
   ]
  },
  {
   "cell_type": "code",
   "execution_count": 20,
   "metadata": {},
   "outputs": [
    {
     "name": "stdout",
     "output_type": "stream",
     "text": [
      "[7]\n"
     ]
    }
   ],
   "source": [
    "# 查看预测结果\n",
    "reshaped = im_reverse.reshape(1,64) # 8*8转为1*64（预测方法的参数要求）\n",
    "result = classifier.predict(reshaped)\n",
    "print(result)"
   ]
  },
  {
   "cell_type": "code",
   "execution_count": 21,
   "metadata": {},
   "outputs": [
    {
     "name": "stdout",
     "output_type": "stream",
     "text": [
      "[[ 0  5 13 13 13 13 12  3]\n",
      " [ 0  8 13 12 13 15 13  2]\n",
      " [ 0  1  1  1 11 15  7  0]\n",
      " [ 0  0  0  6 15 12  1  0]\n",
      " [ 0  0  1 12 15  5  0  0]\n",
      " [ 0  0  5 15 12  1  0  0]\n",
      " [ 0  0 10 15  6  0  0  0]\n",
      " [ 0  0  7  9  1  0  0  0]]\n"
     ]
    },
    {
     "data": {
      "image/png": "[encoded data removed]",
      "text/plain": [
       "<matplotlib.figure.Figure at 0x1a25609a90>"
      ]
     },
     "metadata": {},
     "output_type": "display_data"
    }
   ],
   "source": [
    "image = scipy.misc.imread('seven-2.png') # 读取单张自定义手写数字的图片\n",
    "im_reverse = image2Digit(image) # 将图片转为digits训练数据的规格——即数据的表征方式要统一\n",
    "plt.imshow(image)\n",
    "print(im_reverse) # 显示图片转换后的像素值"
   ]
  },
  {
   "cell_type": "code",
   "execution_count": 22,
   "metadata": {},
   "outputs": [
    {
     "name": "stdout",
     "output_type": "stream",
     "text": [
      "[7]\n"
     ]
    }
   ],
   "source": [
    "# 查看预测结果\n",
    "reshaped = im_reverse.reshape(1,64) # 8*8转为1*64（预测方法的参数要求）\n",
    "result = classifier.predict(reshaped)\n",
    "print(result)"
   ]
  }
 ],
 "metadata": {
  "kernelspec": {
   "display_name": "Python [default]",
   "language": "python",
   "name": "python2"
  },
  "language_info": {
   "codemirror_mode": {
    "name": "ipython",
    "version": 2
   },
   "file_extension": ".py",
   "mimetype": "text/x-python",
   "name": "python",
   "nbconvert_exporter": "python",
   "pygments_lexer": "ipython2",
   "version": "2.7.14"
  },
  "toc": {
   "nav_menu": {},
   "number_sections": true,
   "sideBar": true,
   "skip_h1_title": false,
   "title_cell": "Table of Contents",
   "title_sidebar": "Contents",
   "toc_cell": true,
   "toc_position": {},
   "toc_section_display": true,
   "toc_window_display": false
  }
 },
 "nbformat": 4,
 "nbformat_minor": 1
}
