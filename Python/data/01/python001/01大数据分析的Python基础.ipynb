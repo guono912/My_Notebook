{
 "cells": [
  {
   "cell_type": "markdown",
   "metadata": {
    "toc": true
   },
   "source": [
    "<h1>Table of Contents<span class=\"tocSkip\"></span></h1>\n",
    "<div class=\"toc\"><ul class=\"toc-item\"><li><span><a href=\"#Python-简介\" data-toc-modified-id=\"Python-简介-1\"><span class=\"toc-item-num\">1&nbsp;&nbsp;</span>Python 简介</a></span><ul class=\"toc-item\"><li><span><a href=\"#集成环境\" data-toc-modified-id=\"集成环境-1.1\"><span class=\"toc-item-num\">1.1&nbsp;&nbsp;</span>集成环境</a></span></li><li><span><a href=\"#&quot;Hello-World-!&quot;\" data-toc-modified-id=\"&quot;Hello-World-!&quot;-1.2\"><span class=\"toc-item-num\">1.2&nbsp;&nbsp;</span>\"Hello World !\"</a></span></li></ul></li><li><span><a href=\"#基本概念\" data-toc-modified-id=\"基本概念-2\"><span class=\"toc-item-num\">2&nbsp;&nbsp;</span>基本概念</a></span><ul class=\"toc-item\"><li><span><a href=\"#命名规则\" data-toc-modified-id=\"命名规则-2.1\"><span class=\"toc-item-num\">2.1&nbsp;&nbsp;</span>命名规则</a></span></li><li><span><a href=\"#Python-2与Python-3除法的区别\" data-toc-modified-id=\"Python-2与Python-3除法的区别-2.2\"><span class=\"toc-item-num\">2.2&nbsp;&nbsp;</span>Python 2与Python 3除法的区别</a></span></li><li><span><a href=\"#数据类型\" data-toc-modified-id=\"数据类型-2.3\"><span class=\"toc-item-num\">2.3&nbsp;&nbsp;</span>数据类型</a></span></li><li><span><a href=\"#数据类型相互转换\" data-toc-modified-id=\"数据类型相互转换-2.4\"><span class=\"toc-item-num\">2.4&nbsp;&nbsp;</span>数据类型相互转换</a></span></li><li><span><a href=\"#字符串类型：长度、索引、切片、合并和重复\" data-toc-modified-id=\"字符串类型：长度、索引、切片、合并和重复-2.5\"><span class=\"toc-item-num\">2.5&nbsp;&nbsp;</span>字符串类型：长度、索引、切片、合并和重复</a></span></li></ul></li><li><span><a href=\"#数据文件的读写操作\" data-toc-modified-id=\"数据文件的读写操作-3\"><span class=\"toc-item-num\">3&nbsp;&nbsp;</span>数据文件的读写操作</a></span></li><li><span><a href=\"#数据容器\" data-toc-modified-id=\"数据容器-4\"><span class=\"toc-item-num\">4&nbsp;&nbsp;</span>数据容器</a></span><ul class=\"toc-item\"><li><span><a href=\"#列表\" data-toc-modified-id=\"列表-4.1\"><span class=\"toc-item-num\">4.1&nbsp;&nbsp;</span>列表</a></span><ul class=\"toc-item\"><li><span><a href=\"#列表创建和列表索引\" data-toc-modified-id=\"列表创建和列表索引-4.1.1\"><span class=\"toc-item-num\">4.1.1&nbsp;&nbsp;</span>列表创建和列表索引</a></span></li><li><span><a href=\"#列表切片和元素删除\" data-toc-modified-id=\"列表切片和元素删除-4.1.2\"><span class=\"toc-item-num\">4.1.2&nbsp;&nbsp;</span>列表切片和元素删除</a></span></li></ul></li><li><span><a href=\"#元组\" data-toc-modified-id=\"元组-4.2\"><span class=\"toc-item-num\">4.2&nbsp;&nbsp;</span>元组</a></span></li><li><span><a href=\"#字典\" data-toc-modified-id=\"字典-4.3\"><span class=\"toc-item-num\">4.3&nbsp;&nbsp;</span>字典</a></span></li><li><span><a href=\"#集合\" data-toc-modified-id=\"集合-4.4\"><span class=\"toc-item-num\">4.4&nbsp;&nbsp;</span>集合</a></span></li></ul></li><li><span><a href=\"#控制结构\" data-toc-modified-id=\"控制结构-5\"><span class=\"toc-item-num\">5&nbsp;&nbsp;</span>控制结构</a></span><ul class=\"toc-item\"><li><span><a href=\"#for-循环\" data-toc-modified-id=\"for-循环-5.1\"><span class=\"toc-item-num\">5.1&nbsp;&nbsp;</span>for 循环</a></span></li><li><span><a href=\"#if-条件语句\" data-toc-modified-id=\"if-条件语句-5.2\"><span class=\"toc-item-num\">5.2&nbsp;&nbsp;</span>if 条件语句</a></span></li><li><span><a href=\"#while-循环结构\" data-toc-modified-id=\"while-循环结构-5.3\"><span class=\"toc-item-num\">5.3&nbsp;&nbsp;</span>while 循环结构</a></span></li></ul></li><li><span><a href=\"#Python中的函数、类\" data-toc-modified-id=\"Python中的函数、类-6\"><span class=\"toc-item-num\">6&nbsp;&nbsp;</span>Python中的函数、类</a></span><ul class=\"toc-item\"><li><span><a href=\"#变量作用域：局部变量与全局变量\" data-toc-modified-id=\"变量作用域：局部变量与全局变量-6.1\"><span class=\"toc-item-num\">6.1&nbsp;&nbsp;</span>变量作用域：局部变量与全局变量</a></span></li><li><span><a href=\"#参数设定\" data-toc-modified-id=\"参数设定-6.2\"><span class=\"toc-item-num\">6.2&nbsp;&nbsp;</span>参数设定</a></span></li><li><span><a href=\"#lambda函数和map函数\" data-toc-modified-id=\"lambda函数和map函数-6.3\"><span class=\"toc-item-num\">6.3&nbsp;&nbsp;</span>lambda函数和map函数</a></span></li><li><span><a href=\"#类\" data-toc-modified-id=\"类-6.4\"><span class=\"toc-item-num\">6.4&nbsp;&nbsp;</span>类</a></span></li></ul></li></ul></div>"
   ]
  },
  {
   "cell_type": "markdown",
   "metadata": {},
   "source": [
    "衷心感谢\n",
    "\n",
    "> `吉林大学教务处`\n",
    "\n",
    "> `吉林大学数学学院`\n",
    "\n",
    "> `北京大数据研究院‘博雅公益计划’`\n",
    "\n",
    "提供支持；\n",
    "\n",
    "> `国家天元数学东北中心`\n",
    "\n",
    "> `国家自然科学基金委`\n",
    "\n",
    "> `吉林省优秀青年基金`\n",
    "\n",
    "提供资助！"
   ]
  },
  {
   "cell_type": "markdown",
   "metadata": {},
   "source": [
    "# Python 简介"
   ]
  },
  {
   "cell_type": "markdown",
   "metadata": {},
   "source": [
    "> `Python 是一种面向对象的解释型计算机程序设计语言.`\n",
    "\n",
    "> `由荷兰人 Guido van Rossum 于1989年发明, 第一个公开发行版发行于1991年.`\n",
    "\n",
    "> `Python是纯粹的自由软件, 源代码和解释器CPython遵循 GPL(GNU General Public License)协议.`\n",
    "\n",
    "> `Python语法简洁清晰, 以空白符(white space)作为语句缩进是Python代码书写一大特点.`\n",
    "\n",
    "> `Python具有丰富和强大的库.`\n",
    "\n",
    "> `Python 有 2.7 和 3.6 两大阵营.`\n",
    "\n",
    "> `IEEE发布2017年编程语言排行榜: Python高居首位.`\n",
    "\n",
    "> https://www.python.org\n",
    "\n",
    "<img src=\"./img/python.jpg\" width = \"465\"  align=left >\n",
    "<img src=\"./img/Guido_van_Rossum.jpg\" width = \"300\"  align=center >\n",
    "<center>图1. Python LOGO 及发明者 Guido van Rossum</center>\n"
   ]
  },
  {
   "cell_type": "markdown",
   "metadata": {},
   "source": [
    "## 集成环境"
   ]
  },
  {
   "cell_type": "markdown",
   "metadata": {},
   "source": [
    "初学者推荐使用集成环境 Anaconda https://www.anaconda.com\n",
    "<img src=\"./img/anaconda_screen.png\" width = \"800\"  align=center >\n",
    "<center>图2. Anaconda 界面 </center>"
   ]
  },
  {
   "cell_type": "markdown",
   "metadata": {},
   "source": [
    "## \"Hello World !\""
   ]
  },
  {
   "cell_type": "code",
   "execution_count": 199,
   "metadata": {},
   "outputs": [
    {
     "name": "stdout",
     "output_type": "stream",
     "text": [
      "Hello World !\n"
     ]
    }
   ],
   "source": [
    "print 'Hello World !' # 或者 print ('Hello World !') 或者 print “Hello World !” 或者 print (“Hello World !”)"
   ]
  },
  {
   "cell_type": "code",
   "execution_count": 200,
   "metadata": {},
   "outputs": [],
   "source": [
    "import this # python 格言"
   ]
  },
  {
   "cell_type": "markdown",
   "metadata": {
    "collapsed": true
   },
   "source": [
    "# 基本概念"
   ]
  },
  {
   "cell_type": "markdown",
   "metadata": {},
   "source": [
    "## 命名规则"
   ]
  },
  {
   "cell_type": "code",
   "execution_count": 201,
   "metadata": {},
   "outputs": [
    {
     "name": "stdout",
     "output_type": "stream",
     "text": [
      "a\n",
      "<type 'str'>\n",
      "<type 'int'>\n"
     ]
    }
   ],
   "source": [
    "x = \"a\" # 变量命名\n",
    "print x# 打印变量的值\n",
    "print type(x) # 查看变量类型\n",
    "x = 3# 之所以成为动态语言的原因\n",
    "print type(x)"
   ]
  },
  {
   "cell_type": "code",
   "execution_count": 202,
   "metadata": {},
   "outputs": [
    {
     "name": "stdout",
     "output_type": "stream",
     "text": [
      "['and', 'as', 'assert', 'break', 'class', 'continue', 'def', 'del', 'elif', 'else', 'except', 'exec', 'finally', 'for', 'from', 'global', 'if', 'import', 'in', 'is', 'lambda', 'not', 'or', 'pass', 'print', 'raise', 'return', 'try', 'while', 'with', 'yield']\n"
     ]
    }
   ],
   "source": [
    "#?ab,2ab,_ab # 变量命名规则，大小写敏感\n",
    "# 关键字\n",
    "import keyword\n",
    "print keyword.kwlist"
   ]
  },
  {
   "cell_type": "markdown",
   "metadata": {},
   "source": [
    "## Python 2与Python 3除法的区别"
   ]
  },
  {
   "cell_type": "code",
   "execution_count": 203,
   "metadata": {},
   "outputs": [
    {
     "name": "stdout",
     "output_type": "stream",
     "text": [
      "0.5\n"
     ]
    }
   ],
   "source": [
    "print float(1/2) # python 2   1.0/2    或者 float(1)/2"
   ]
  },
  {
   "cell_type": "code",
   "execution_count": 204,
   "metadata": {},
   "outputs": [
    {
     "name": "stdout",
     "output_type": "stream",
     "text": [
      "0.5\n"
     ]
    }
   ],
   "source": [
    "from __future__ import division # python 3\n",
    "print 1/2"
   ]
  },
  {
   "cell_type": "markdown",
   "metadata": {},
   "source": [
    "## 数据类型"
   ]
  },
  {
   "cell_type": "code",
   "execution_count": 205,
   "metadata": {},
   "outputs": [],
   "source": [
    "# 读取数据集中的location\n",
    "import pandas as pd\n",
    "medicare = pd.read_csv('./medicare.csv')"
   ]
  },
  {
   "cell_type": "code",
   "execution_count": 206,
   "metadata": {},
   "outputs": [
    {
     "data": {
      "text/html": [
       "<div>\n",
       "<style scoped>\n",
       "    .dataframe tbody tr th:only-of-type {\n",
       "        vertical-align: middle;\n",
       "    }\n",
       "\n",
       "    .dataframe tbody tr th {\n",
       "        vertical-align: top;\n",
       "    }\n",
       "\n",
       "    .dataframe thead th {\n",
       "        text-align: right;\n",
       "    }\n",
       "</style>\n",
       "<table border=\"1\" class=\"dataframe\">\n",
       "  <thead>\n",
       "    <tr style=\"text-align: right;\">\n",
       "      <th></th>\n",
       "      <th>Provider ID</th>\n",
       "      <th>Hospital Name</th>\n",
       "      <th>Address</th>\n",
       "      <th>City</th>\n",
       "      <th>State</th>\n",
       "      <th>ZIP Code</th>\n",
       "      <th>County Name</th>\n",
       "      <th>Phone Number</th>\n",
       "      <th>Measure Name</th>\n",
       "      <th>Measure ID</th>\n",
       "      <th>Score</th>\n",
       "      <th>Footnote</th>\n",
       "      <th>Measure Start Date</th>\n",
       "      <th>Measure End Date</th>\n",
       "      <th>Location</th>\n",
       "    </tr>\n",
       "  </thead>\n",
       "  <tbody>\n",
       "    <tr>\n",
       "      <th>0</th>\n",
       "      <td>10005</td>\n",
       "      <td>MARSHALL MEDICAL CENTER SOUTH</td>\n",
       "      <td>2505 U S HIGHWAY 431 NORTH</td>\n",
       "      <td>BOAZ</td>\n",
       "      <td>AL</td>\n",
       "      <td>35957</td>\n",
       "      <td>MARSHALL</td>\n",
       "      <td>2565938310</td>\n",
       "      <td>Medicare hospital spending per patient (Medica...</td>\n",
       "      <td>MSPB_1</td>\n",
       "      <td>0.98</td>\n",
       "      <td>NaN</td>\n",
       "      <td>01/01/2014</td>\n",
       "      <td>12/31/2014</td>\n",
       "      <td>2505 U S HIGHWAY 431 NORTH\\nBOAZ, AL 35957\\n</td>\n",
       "    </tr>\n",
       "    <tr>\n",
       "      <th>1</th>\n",
       "      <td>10032</td>\n",
       "      <td>WEDOWEE HOSPITAL</td>\n",
       "      <td>209 NORTH MAIN STREET</td>\n",
       "      <td>WEDOWEE</td>\n",
       "      <td>AL</td>\n",
       "      <td>36278</td>\n",
       "      <td>RANDOLPH</td>\n",
       "      <td>2563572111</td>\n",
       "      <td>Medicare hospital spending per patient (Medica...</td>\n",
       "      <td>MSPB_1</td>\n",
       "      <td>0.84</td>\n",
       "      <td>NaN</td>\n",
       "      <td>01/01/2014</td>\n",
       "      <td>12/31/2014</td>\n",
       "      <td>209 NORTH MAIN STREET\\nWEDOWEE, AL 36278\\n</td>\n",
       "    </tr>\n",
       "    <tr>\n",
       "      <th>2</th>\n",
       "      <td>10131</td>\n",
       "      <td>CRESTWOOD MEDICAL CENTER</td>\n",
       "      <td>ONE HOSPITAL DR SE</td>\n",
       "      <td>HUNTSVILLE</td>\n",
       "      <td>AL</td>\n",
       "      <td>35801</td>\n",
       "      <td>MADISON</td>\n",
       "      <td>2568823100</td>\n",
       "      <td>Medicare hospital spending per patient (Medica...</td>\n",
       "      <td>MSPB_1</td>\n",
       "      <td>0.98</td>\n",
       "      <td>NaN</td>\n",
       "      <td>01/01/2014</td>\n",
       "      <td>12/31/2014</td>\n",
       "      <td>ONE HOSPITAL DR SE\\nHUNTSVILLE, AL 35801\\n</td>\n",
       "    </tr>\n",
       "    <tr>\n",
       "      <th>3</th>\n",
       "      <td>20001</td>\n",
       "      <td>PROVIDENCE ALASKA MEDICAL CENTER</td>\n",
       "      <td>BOX 196604</td>\n",
       "      <td>ANCHORAGE</td>\n",
       "      <td>AK</td>\n",
       "      <td>99508</td>\n",
       "      <td>ANCHORAGE</td>\n",
       "      <td>9072123675</td>\n",
       "      <td>Medicare hospital spending per patient (Medica...</td>\n",
       "      <td>MSPB_1</td>\n",
       "      <td>0.90</td>\n",
       "      <td>NaN</td>\n",
       "      <td>01/01/2014</td>\n",
       "      <td>12/31/2014</td>\n",
       "      <td>BOX 196604\\nANCHORAGE, AK 99508\\n</td>\n",
       "    </tr>\n",
       "    <tr>\n",
       "      <th>4</th>\n",
       "      <td>20018</td>\n",
       "      <td>YUKON KUSKOKWIM DELTA REG HOSPITAL</td>\n",
       "      <td>PO BOX 287</td>\n",
       "      <td>BETHEL</td>\n",
       "      <td>AK</td>\n",
       "      <td>99559</td>\n",
       "      <td>BETHEL</td>\n",
       "      <td>9075436300</td>\n",
       "      <td>Medicare hospital spending per patient (Medica...</td>\n",
       "      <td>MSPB_1</td>\n",
       "      <td>0.67</td>\n",
       "      <td>NaN</td>\n",
       "      <td>01/01/2014</td>\n",
       "      <td>12/31/2014</td>\n",
       "      <td>PO BOX 287\\nBETHEL, AK 99559\\n</td>\n",
       "    </tr>\n",
       "  </tbody>\n",
       "</table>\n",
       "</div>"
      ],
      "text/plain": [
       "   Provider ID                       Hospital Name  \\\n",
       "0        10005       MARSHALL MEDICAL CENTER SOUTH   \n",
       "1        10032                    WEDOWEE HOSPITAL   \n",
       "2        10131            CRESTWOOD MEDICAL CENTER   \n",
       "3        20001    PROVIDENCE ALASKA MEDICAL CENTER   \n",
       "4        20018  YUKON KUSKOKWIM DELTA REG HOSPITAL   \n",
       "\n",
       "                      Address        City State  ZIP Code County Name  \\\n",
       "0  2505 U S HIGHWAY 431 NORTH        BOAZ    AL     35957    MARSHALL   \n",
       "1       209 NORTH MAIN STREET     WEDOWEE    AL     36278    RANDOLPH   \n",
       "2          ONE HOSPITAL DR SE  HUNTSVILLE    AL     35801     MADISON   \n",
       "3                  BOX 196604   ANCHORAGE    AK     99508   ANCHORAGE   \n",
       "4                  PO BOX 287      BETHEL    AK     99559      BETHEL   \n",
       "\n",
       "   Phone Number                                       Measure Name Measure ID  \\\n",
       "0    2565938310  Medicare hospital spending per patient (Medica...     MSPB_1   \n",
       "1    2563572111  Medicare hospital spending per patient (Medica...     MSPB_1   \n",
       "2    2568823100  Medicare hospital spending per patient (Medica...     MSPB_1   \n",
       "3    9072123675  Medicare hospital spending per patient (Medica...     MSPB_1   \n",
       "4    9075436300  Medicare hospital spending per patient (Medica...     MSPB_1   \n",
       "\n",
       "   Score Footnote Measure Start Date Measure End Date  \\\n",
       "0   0.98      NaN         01/01/2014       12/31/2014   \n",
       "1   0.84      NaN         01/01/2014       12/31/2014   \n",
       "2   0.98      NaN         01/01/2014       12/31/2014   \n",
       "3   0.90      NaN         01/01/2014       12/31/2014   \n",
       "4   0.67      NaN         01/01/2014       12/31/2014   \n",
       "\n",
       "                                       Location  \n",
       "0  2505 U S HIGHWAY 431 NORTH\\nBOAZ, AL 35957\\n  \n",
       "1    209 NORTH MAIN STREET\\nWEDOWEE, AL 36278\\n  \n",
       "2    ONE HOSPITAL DR SE\\nHUNTSVILLE, AL 35801\\n  \n",
       "3             BOX 196604\\nANCHORAGE, AK 99508\\n  \n",
       "4                PO BOX 287\\nBETHEL, AK 99559\\n  "
      ]
     },
     "execution_count": 206,
     "metadata": {},
     "output_type": "execute_result"
    }
   ],
   "source": [
    "medicare.head(5)"
   ]
  },
  {
   "cell_type": "code",
   "execution_count": 207,
   "metadata": {},
   "outputs": [],
   "source": [
    "#  字符串\n",
    "location = medicare['Location'][0]"
   ]
  },
  {
   "cell_type": "code",
   "execution_count": 208,
   "metadata": {},
   "outputs": [
    {
     "name": "stdout",
     "output_type": "stream",
     "text": [
      "2505 U S HIGHWAY 431 NORTH\n",
      "BOAZ, AL 35957\n",
      "\n"
     ]
    }
   ],
   "source": [
    "print location"
   ]
  },
  {
   "cell_type": "code",
   "execution_count": 209,
   "metadata": {},
   "outputs": [
    {
     "data": {
      "text/plain": [
       "str"
      ]
     },
     "execution_count": 209,
     "metadata": {},
     "output_type": "execute_result"
    }
   ],
   "source": [
    "type(location)"
   ]
  },
  {
   "cell_type": "code",
   "execution_count": 210,
   "metadata": {},
   "outputs": [],
   "source": [
    "# 整型\n",
    "pid = medicare['Provider ID'][0]"
   ]
  },
  {
   "cell_type": "code",
   "execution_count": 211,
   "metadata": {},
   "outputs": [
    {
     "name": "stdout",
     "output_type": "stream",
     "text": [
      "10005\n"
     ]
    }
   ],
   "source": [
    "print pid"
   ]
  },
  {
   "cell_type": "code",
   "execution_count": 212,
   "metadata": {},
   "outputs": [
    {
     "data": {
      "text/plain": [
       "numpy.int64"
      ]
     },
     "execution_count": 212,
     "metadata": {},
     "output_type": "execute_result"
    }
   ],
   "source": [
    "type(pid)"
   ]
  },
  {
   "cell_type": "code",
   "execution_count": 213,
   "metadata": {},
   "outputs": [],
   "source": [
    "# 浮点型\n",
    "sc = medicare['Score'][0]"
   ]
  },
  {
   "cell_type": "code",
   "execution_count": 214,
   "metadata": {},
   "outputs": [
    {
     "name": "stdout",
     "output_type": "stream",
     "text": [
      "0.98\n"
     ]
    }
   ],
   "source": [
    "print sc"
   ]
  },
  {
   "cell_type": "code",
   "execution_count": 215,
   "metadata": {},
   "outputs": [
    {
     "data": {
      "text/plain": [
       "numpy.float64"
      ]
     },
     "execution_count": 215,
     "metadata": {},
     "output_type": "execute_result"
    }
   ],
   "source": [
    "type(sc)"
   ]
  },
  {
   "cell_type": "code",
   "execution_count": 216,
   "metadata": {},
   "outputs": [
    {
     "name": "stdout",
     "output_type": "stream",
     "text": [
      "False\n",
      "True\n",
      "False\n",
      "True\n"
     ]
    }
   ],
   "source": [
    "# 布尔型\n",
    "t = True\n",
    "f = False\n",
    "print t and f # 与\n",
    "print t or f# 或\n",
    "print not t# 非\n",
    "print t != f# 异或"
   ]
  },
  {
   "cell_type": "markdown",
   "metadata": {},
   "source": [
    "## 数据类型相互转换"
   ]
  },
  {
   "cell_type": "code",
   "execution_count": 217,
   "metadata": {},
   "outputs": [
    {
     "name": "stdout",
     "output_type": "stream",
     "text": [
      "0\n"
     ]
    }
   ],
   "source": [
    "# int(),float(),bool(),str() \n",
    "print int(sc)"
   ]
  },
  {
   "cell_type": "markdown",
   "metadata": {},
   "source": [
    "## 字符串类型：长度、索引、切片、合并和重复"
   ]
  },
  {
   "cell_type": "code",
   "execution_count": 218,
   "metadata": {},
   "outputs": [
    {
     "name": "stdout",
     "output_type": "stream",
     "text": [
      "15\n",
      "J\n",
      "t\n",
      "JilinUniversity\n",
      "ilin\n",
      "JilinUniversityxyz\n",
      "JilinUniversityJilinUniversityJilinUniversity\n",
      "J\\lu\n"
     ]
    }
   ],
   "source": [
    "S = 'JilinUniversity'\n",
    "print len(S)# 长度\n",
    "print S[0]# 索引，顺序和逆序\n",
    "print S[-2]\n",
    "print S[:]# 切片\n",
    "print S[1:5]\n",
    "print S+'xyz'# 合并和重复\n",
    "print S*3\n",
    "raws = r'J\\lu'# 原始字符串\n",
    "print raws"
   ]
  },
  {
   "cell_type": "markdown",
   "metadata": {},
   "source": [
    "# 数据文件的读写操作"
   ]
  },
  {
   "cell_type": "code",
   "execution_count": 219,
   "metadata": {},
   "outputs": [
    {
     "data": {
      "text/plain": [
       "'P'"
      ]
     },
     "execution_count": 219,
     "metadata": {},
     "output_type": "execute_result"
    }
   ],
   "source": [
    "f = open('./medicare.csv',mode=\"r\")# 生成文件对象\n",
    "f.read(1)# 两种读取数据的方法read,readline"
   ]
  },
  {
   "cell_type": "code",
   "execution_count": 220,
   "metadata": {},
   "outputs": [
    {
     "data": {
      "text/plain": [
       "'rovider ID,Hospital Name,Address,City,State,ZIP Code,County Name,Phone Number,Measure Name,Measure ID,Score,Footnote,Measure Start Date,Measure End Date,Location\\n'"
      ]
     },
     "execution_count": 220,
     "metadata": {},
     "output_type": "execute_result"
    }
   ],
   "source": [
    "f.readline()"
   ]
  },
  {
   "cell_type": "code",
   "execution_count": 221,
   "metadata": {},
   "outputs": [
    {
     "data": {
      "text/plain": [
       "'Provider ID,Hospital Name,Address,City,State,ZIP Code,County Name,Phone Number,Measure Name,Measure ID,Score,Footnote,Measure Start Date,Measure End Date,Location\\n'"
      ]
     },
     "execution_count": 221,
     "metadata": {},
     "output_type": "execute_result"
    }
   ],
   "source": [
    "f.seek(0)# 返回文件初始位置seek\n",
    "f.readline()"
   ]
  },
  {
   "cell_type": "code",
   "execution_count": 222,
   "metadata": {},
   "outputs": [],
   "source": [
    "f.close()# 关闭文件"
   ]
  },
  {
   "cell_type": "code",
   "execution_count": 223,
   "metadata": {},
   "outputs": [
    {
     "name": "stdout",
     "output_type": "stream",
     "text": [
      "Provid\n"
     ]
    }
   ],
   "source": [
    "with open('./medicare.csv', 'r') as f: # 免去 f.close()\n",
    "    print f.read(6)"
   ]
  },
  {
   "cell_type": "code",
   "execution_count": 224,
   "metadata": {},
   "outputs": [
    {
     "name": "stdout",
     "output_type": "stream",
     "text": [
      "['010005', 'MARSHALL MEDICAL CENTER SOUTH', '2505 U S HIGHWAY 431 NORTH', 'BOAZ', 'AL', '35957', 'MARSHALL', '2565938310', 'Medicare hospital spending per patient (Medicare Spending per Beneficiary)', 'MSPB_1', '0.98', '', '01/01/2014', '12/31/2014', '2505 U S HIGHWAY 431 NORTH\\nBOAZ, AL 35957\\n']\n"
     ]
    }
   ],
   "source": [
    "import csv# csv模块读写\n",
    "f = open('./medicare.csv',mode=\"r\")\n",
    "content = csv.reader(f)\n",
    "samples = list(content)\n",
    "print samples[1]"
   ]
  },
  {
   "cell_type": "code",
   "execution_count": 225,
   "metadata": {},
   "outputs": [
    {
     "data": {
      "text/html": [
       "<div>\n",
       "<style scoped>\n",
       "    .dataframe tbody tr th:only-of-type {\n",
       "        vertical-align: middle;\n",
       "    }\n",
       "\n",
       "    .dataframe tbody tr th {\n",
       "        vertical-align: top;\n",
       "    }\n",
       "\n",
       "    .dataframe thead th {\n",
       "        text-align: right;\n",
       "    }\n",
       "</style>\n",
       "<table border=\"1\" class=\"dataframe\">\n",
       "  <thead>\n",
       "    <tr style=\"text-align: right;\">\n",
       "      <th></th>\n",
       "      <th>Provider ID</th>\n",
       "      <th>Hospital Name</th>\n",
       "      <th>Address</th>\n",
       "      <th>City</th>\n",
       "      <th>State</th>\n",
       "      <th>ZIP Code</th>\n",
       "      <th>County Name</th>\n",
       "      <th>Phone Number</th>\n",
       "      <th>Measure Name</th>\n",
       "      <th>Measure ID</th>\n",
       "      <th>Score</th>\n",
       "      <th>Footnote</th>\n",
       "      <th>Measure Start Date</th>\n",
       "      <th>Measure End Date</th>\n",
       "      <th>Location</th>\n",
       "    </tr>\n",
       "  </thead>\n",
       "  <tbody>\n",
       "    <tr>\n",
       "      <th>0</th>\n",
       "      <td>10005</td>\n",
       "      <td>MARSHALL MEDICAL CENTER SOUTH</td>\n",
       "      <td>2505 U S HIGHWAY 431 NORTH</td>\n",
       "      <td>BOAZ</td>\n",
       "      <td>AL</td>\n",
       "      <td>35957</td>\n",
       "      <td>MARSHALL</td>\n",
       "      <td>2565938310</td>\n",
       "      <td>Medicare hospital spending per patient (Medica...</td>\n",
       "      <td>MSPB_1</td>\n",
       "      <td>0.98</td>\n",
       "      <td>NaN</td>\n",
       "      <td>01/01/2014</td>\n",
       "      <td>12/31/2014</td>\n",
       "      <td>2505 U S HIGHWAY 431 NORTH\\nBOAZ, AL 35957\\n</td>\n",
       "    </tr>\n",
       "  </tbody>\n",
       "</table>\n",
       "</div>"
      ],
      "text/plain": [
       "   Provider ID                  Hospital Name                     Address  \\\n",
       "0        10005  MARSHALL MEDICAL CENTER SOUTH  2505 U S HIGHWAY 431 NORTH   \n",
       "\n",
       "   City State  ZIP Code County Name  Phone Number  \\\n",
       "0  BOAZ    AL     35957    MARSHALL    2565938310   \n",
       "\n",
       "                                        Measure Name Measure ID  Score  \\\n",
       "0  Medicare hospital spending per patient (Medica...     MSPB_1   0.98   \n",
       "\n",
       "  Footnote Measure Start Date Measure End Date  \\\n",
       "0      NaN         01/01/2014       12/31/2014   \n",
       "\n",
       "                                       Location  \n",
       "0  2505 U S HIGHWAY 431 NORTH\\nBOAZ, AL 35957\\n  "
      ]
     },
     "execution_count": 225,
     "metadata": {},
     "output_type": "execute_result"
    }
   ],
   "source": [
    "# pandas模块读写\n",
    "import pandas as pd\n",
    "medicare = pd.read_csv('./medicare.csv')\n",
    "medicare.head(1)"
   ]
  },
  {
   "cell_type": "markdown",
   "metadata": {
    "collapsed": true
   },
   "source": [
    "# 数据容器"
   ]
  },
  {
   "cell_type": "markdown",
   "metadata": {},
   "source": [
    "## 列表"
   ]
  },
  {
   "cell_type": "code",
   "execution_count": 226,
   "metadata": {},
   "outputs": [],
   "source": [
    "# 提取第一个医院样本\n",
    "f = open('./medicare.csv', mode=\"r\") \n",
    "columns = f.readline()\n",
    "sample = f.readline()\n",
    "f.close()"
   ]
  },
  {
   "cell_type": "code",
   "execution_count": 227,
   "metadata": {},
   "outputs": [
    {
     "data": {
      "text/plain": [
       "'010005,MARSHALL MEDICAL CENTER SOUTH,2505 U S HIGHWAY 431 NORTH,BOAZ,AL,35957,MARSHALL,2565938310,Medicare hospital spending per patient (Medicare Spending per Beneficiary),MSPB_1,0.98,,01/01/2014,12/31/2014,\"2505 U S HIGHWAY 431 NORTH\\n'"
      ]
     },
     "execution_count": 227,
     "metadata": {},
     "output_type": "execute_result"
    }
   ],
   "source": [
    "sample"
   ]
  },
  {
   "cell_type": "code",
   "execution_count": 228,
   "metadata": {},
   "outputs": [],
   "source": [
    "clean_sample = sample.strip().split(',')"
   ]
  },
  {
   "cell_type": "markdown",
   "metadata": {},
   "source": [
    "### 列表创建和列表索引"
   ]
  },
  {
   "cell_type": "code",
   "execution_count": 229,
   "metadata": {},
   "outputs": [
    {
     "name": "stdout",
     "output_type": "stream",
     "text": [
      "3\n",
      "1325\n",
      "['1325', 'City Hospital', 0.88, '01/01/2014']\n",
      "['1325', 'City Hospital', 0.88, '12/31/2014', '01/01/2014']\n"
     ]
    }
   ],
   "source": [
    "sample = ['1325','City Hospital',0.88]\n",
    "print len(sample) # 列表长度\n",
    "print sample[0] # 列表索引\n",
    "sample.append('01/01/2014') # 添加列表元素：末尾添加'01/01/2014'\n",
    "print sample\n",
    "sample.insert(-1,'12/31/2014') # 添加列表元素：指定位置-1添加'12/31/2014'\n",
    "print sample"
   ]
  },
  {
   "cell_type": "code",
   "execution_count": 230,
   "metadata": {},
   "outputs": [
    {
     "name": "stdout",
     "output_type": "stream",
     "text": [
      "['1325', 'City Hospital', 0.88, '01/01/2014', '12/31/2014']\n"
     ]
    }
   ],
   "source": [
    "sample = ['1325','City Hospital',0.88]\n",
    "date = ['01/01/2014','12/31/2014']\n",
    "# 整合两个列表\n",
    "sample.extend(date)\n",
    "print sample"
   ]
  },
  {
   "cell_type": "code",
   "execution_count": 231,
   "metadata": {},
   "outputs": [
    {
     "data": {
      "text/plain": [
       "2"
      ]
     },
     "execution_count": 231,
     "metadata": {},
     "output_type": "execute_result"
    }
   ],
   "source": [
    "sample.index(0.88)# 获取元素的索引号"
   ]
  },
  {
   "cell_type": "markdown",
   "metadata": {},
   "source": [
    "### 列表切片和元素删除"
   ]
  },
  {
   "cell_type": "code",
   "execution_count": 232,
   "metadata": {},
   "outputs": [
    {
     "name": "stdout",
     "output_type": "stream",
     "text": [
      "['MARSHALL MEDICAL CENTER SOUTH', 'Score']\n",
      "['Hospital Name', 'MARSHALL MEDICAL CENTER SOUTH', 'Score', 0.98]\n",
      "['Hospital Name', 'MARSHALL MEDICAL CENTER SOUTH']\n",
      "[0.98, 'Score', 'MARSHALL MEDICAL CENTER SOUTH', 'Hospital Name']\n"
     ]
    }
   ],
   "source": [
    "shortinfo = ['Hospital Name', 'MARSHALL MEDICAL CENTER SOUTH', 'Score', 0.98]\n",
    "print shortinfo[1:3]# 列表切片\n",
    "print shortinfo[:] # 拷贝列表\n",
    "print shortinfo[:2]# 从头开始切片\n",
    "print shortinfo[::-1]# 切片产生逆序,等价于reverse()，"
   ]
  },
  {
   "cell_type": "code",
   "execution_count": 233,
   "metadata": {},
   "outputs": [
    {
     "name": "stdout",
     "output_type": "stream",
     "text": [
      "['Hospital Name', 'Score', 0.98]\n"
     ]
    }
   ],
   "source": [
    "shortinfo = ['Hospital Name', 'MARSHALL MEDICAL CENTER SOUTH', 'Score', 0.98]\n",
    "shortinfo.remove('MARSHALL MEDICAL CENTER SOUTH') # 元素删除：remove方法\n",
    "print shortinfo"
   ]
  },
  {
   "cell_type": "code",
   "execution_count": 234,
   "metadata": {},
   "outputs": [
    {
     "name": "stdout",
     "output_type": "stream",
     "text": [
      "['Hospital Name', 'Score', 0.98]\n"
     ]
    }
   ],
   "source": [
    "shortinfo = ['Hospital Name', 'MARSHALL MEDICAL CENTER SOUTH', 'Score', 0.98]\n",
    "del shortinfo[1] # 元素删除：del方法\n",
    "print shortinfo"
   ]
  },
  {
   "cell_type": "code",
   "execution_count": 235,
   "metadata": {},
   "outputs": [
    {
     "name": "stdout",
     "output_type": "stream",
     "text": [
      "['Hospital Name', 'Score', 0.98]\n"
     ]
    }
   ],
   "source": [
    "shortinfo = ['Hospital Name', 'MARSHALL MEDICAL CENTER SOUTH', 'Score', 0.98]\n",
    "shortinfo.pop(1) # 元素删除：pop方法\n",
    "print shortinfo"
   ]
  },
  {
   "cell_type": "markdown",
   "metadata": {},
   "source": [
    "## 元组"
   ]
  },
  {
   "cell_type": "code",
   "execution_count": 236,
   "metadata": {},
   "outputs": [
    {
     "name": "stdout",
     "output_type": "stream",
     "text": [
      "('Hospital Name', 'MARSHALL MEDICAL CENTER SOUTH', 'Score', 0.98)\n"
     ]
    }
   ],
   "source": [
    "# 元组与列表类似，不同之处在于元组的元素不能修改\n",
    "shortinfo = ['Hospital Name', 'MARSHALL MEDICAL CENTER SOUTH', 'Score', 0.98]\n",
    "shortinfo_tuple = tuple(shortinfo) # 元素不可变 就两个方法,count,index\n",
    "print shortinfo_tuple"
   ]
  },
  {
   "cell_type": "code",
   "execution_count": 237,
   "metadata": {},
   "outputs": [
    {
     "data": {
      "text/plain": [
       "1"
      ]
     },
     "execution_count": 237,
     "metadata": {},
     "output_type": "execute_result"
    }
   ],
   "source": [
    "shortinfo_tuple.count(0.98)# 元素个数统计"
   ]
  },
  {
   "cell_type": "code",
   "execution_count": 238,
   "metadata": {},
   "outputs": [
    {
     "data": {
      "text/plain": [
       "3"
      ]
     },
     "execution_count": 238,
     "metadata": {},
     "output_type": "execute_result"
    }
   ],
   "source": [
    "shortinfo_tuple.index(0.98)# 返回索引位置"
   ]
  },
  {
   "cell_type": "code",
   "execution_count": 239,
   "metadata": {},
   "outputs": [
    {
     "name": "stdout",
     "output_type": "stream",
     "text": [
      "tup1[0]:  physics\n",
      "tup2[1:5]:  (2, 3, 4, 5)\n"
     ]
    }
   ],
   "source": [
    "# 元组访问\n",
    "tup1 = ('physics', 'chemistry', 1997, 2000);\n",
    "tup2 = (1, 2, 3, 4, 5, 6, 7 );\n",
    "\n",
    "print \"tup1[0]: \", tup1[0]\n",
    "print \"tup2[1:5]: \", tup2[1:5]"
   ]
  },
  {
   "cell_type": "code",
   "execution_count": 240,
   "metadata": {},
   "outputs": [
    {
     "name": "stdout",
     "output_type": "stream",
     "text": [
      "('physics', 'chemistry', 1997, 2000, 1, 2, 3, 4, 5, 6, 7)\n"
     ]
    }
   ],
   "source": [
    "# 以下修改元组元素操作是非法的。\n",
    "# tup1[0] = 100;\n",
    "\n",
    "# 创建一个新的元组\n",
    "tup3 = tup1 + tup2;\n",
    "print tup3;"
   ]
  },
  {
   "cell_type": "code",
   "execution_count": 241,
   "metadata": {},
   "outputs": [
    {
     "name": "stdout",
     "output_type": "stream",
     "text": [
      "4\n",
      "physics\n"
     ]
    }
   ],
   "source": [
    "# 元组操作\n",
    "print len(tup1) # 元组长度\n",
    "print max(tup1) # 最大值"
   ]
  },
  {
   "cell_type": "markdown",
   "metadata": {},
   "source": [
    "## 字典"
   ]
  },
  {
   "cell_type": "code",
   "execution_count": 242,
   "metadata": {},
   "outputs": [],
   "source": [
    "# 创建字典的三种方式\n",
    "dict1 = {'Marshall Medical Center South':0.98,'Wedowee Hospital':0.84}\n",
    "dict2 = dict(Marshall_Medical_Center_South=0.98,Wedowee_Hospital=0.84)\n",
    "dict3 = dict([('Marshall Medical Center South',0.98),('Wedowee Hospital',0.84)])\n",
    "\n",
    "dict4 = dict([('Wedowee Hospital',0.84),('Marshall Medical Center South',0.98)]) # 无序性"
   ]
  },
  {
   "cell_type": "code",
   "execution_count": 243,
   "metadata": {},
   "outputs": [
    {
     "name": "stdout",
     "output_type": "stream",
     "text": [
      "{'Marshall Medical Center South': 0.98, 'Wedowee Hospital': 0.84}\n",
      "{'Wedowee_Hospital': 0.84, 'Marshall_Medical_Center_South': 0.98}\n",
      "{'Marshall Medical Center South': 0.98, 'Wedowee Hospital': 0.84}\n",
      "{'Marshall Medical Center South': 0.98, 'Wedowee Hospital': 0.84}\n"
     ]
    }
   ],
   "source": [
    "print dict1\n",
    "print dict2\n",
    "print dict3\n",
    "print dict4"
   ]
  },
  {
   "cell_type": "code",
   "execution_count": 244,
   "metadata": {},
   "outputs": [
    {
     "name": "stdout",
     "output_type": "stream",
     "text": [
      "OrderedDict([('Wedowee Hospital', 0.84), ('Marshall Medical Center South', 0.98)])\n",
      "OrderedDict([('Marshall Medical Center South', 0.98), ('Wedowee Hospital', 0.84)])\n"
     ]
    }
   ],
   "source": [
    "# 有序字典\n",
    "from collections import OrderedDict\n",
    "ordered_dict1 = OrderedDict([('Wedowee Hospital',0.84),('Marshall Medical Center South',0.98)])\n",
    "ordered_dict2 = OrderedDict([('Marshall Medical Center South',0.98),('Wedowee Hospital',0.84)])\n",
    "print ordered_dict1\n",
    "print ordered_dict2"
   ]
  },
  {
   "cell_type": "code",
   "execution_count": 245,
   "metadata": {},
   "outputs": [
    {
     "name": "stdout",
     "output_type": "stream",
     "text": [
      "{'Marshall Medical Center South': 0.98, 'Wedowee Hospital': 0.84}\n"
     ]
    }
   ],
   "source": [
    "# 通过两个列表创建字典\n",
    "key_list = ['Marshall Medical Center South','Wedowee Hospital']\n",
    "value_list = [0.98,0.84]\n",
    "dict5 = {}\n",
    "for key, value in zip(key_list,value_list):\n",
    "    dict5[key] = value\n",
    "print dict5"
   ]
  },
  {
   "cell_type": "code",
   "execution_count": 246,
   "metadata": {},
   "outputs": [
    {
     "name": "stdout",
     "output_type": "stream",
     "text": [
      "0.98\n",
      "0.98\n",
      "None\n",
      "键值不存在\n",
      "True\n",
      "False\n"
     ]
    }
   ],
   "source": [
    "# 字典元素访问\n",
    "\n",
    "print dict5['Marshall Medical Center South'] # 通过键直接访问\n",
    "print dict5.get('Marshall Medical Center South') # get方法获得键的值\n",
    "print dict5.get('Marshall') # 不存在键值，返回none\n",
    "print dict5.get('Marshall',u'键值不存在') # 可以指定键不存在时，返回的值\n",
    "print 'Marshall Medical Center South' in dict5 # in 查询\n",
    "print dict5.has_key('Marshall') # has_key 查询"
   ]
  },
  {
   "cell_type": "code",
   "execution_count": 247,
   "metadata": {},
   "outputs": [
    {
     "name": "stdout",
     "output_type": "stream",
     "text": [
      "['Marshall Medical Center South', 'Wedowee Hospital']\n",
      "[0.98, 0.84]\n",
      "[('Marshall Medical Center South', 0.98), ('Wedowee Hospital', 0.84)]\n"
     ]
    }
   ],
   "source": [
    "print dict5.keys() # 返回所有的键\n",
    "print dict5.values() # 返回所有的值\n",
    "print dict5.items()# 返回键值元组列表"
   ]
  },
  {
   "cell_type": "code",
   "execution_count": 248,
   "metadata": {},
   "outputs": [
    {
     "name": "stdout",
     "output_type": "stream",
     "text": [
      "Marshall Medical Center South : 0.98\n",
      "Wedowee Hospital : 0.84\n"
     ]
    }
   ],
   "source": [
    "for key,value in dict5.items(): # items遍历读取字典键值\n",
    "    print key,\":\",value"
   ]
  },
  {
   "cell_type": "code",
   "execution_count": 249,
   "metadata": {},
   "outputs": [
    {
     "name": "stdout",
     "output_type": "stream",
     "text": [
      "{'Marshall Medical Center South': 0.98, 'Wedowee Hospital': 0.84, 'City Hospital': 1}\n",
      "{'Marshall Medical Center South': 0.98, 'City Hospital': 1}\n",
      "{'Marshall Medical Center South': 0.98}\n",
      "{}\n"
     ]
    }
   ],
   "source": [
    "dict5['City Hospital']= 1 # 字典元素的添加 \n",
    "print dict5\n",
    "del dict5['Wedowee Hospital'] # del方法删除字典元素\n",
    "print dict5 \n",
    "dict5.pop('City Hospital') # pop方法删除元素\n",
    "print dict5\n",
    "dict5.clear() # 删除字典中所有元素\n",
    "print dict5"
   ]
  },
  {
   "cell_type": "markdown",
   "metadata": {},
   "source": [
    "## 集合"
   ]
  },
  {
   "cell_type": "code",
   "execution_count": 250,
   "metadata": {},
   "outputs": [
    {
     "name": "stdout",
     "output_type": "stream",
     "text": [
      "set([1, 2, 3])\n",
      "['Hospital Name', 'MARSHALL MEDICAL CENTER SOUTH', 'Score', 0.98]\n",
      "set(['MARSHALL MEDICAL CENTER SOUTH', 'Score', 'Hospital Name', 0.98])\n"
     ]
    }
   ],
   "source": [
    "set1 = {1,2,3}# {}创建集合\n",
    "print set1\n",
    "print shortinfo # set函数创建集合\n",
    "shortinfo_set = set(shortinfo)\n",
    "print shortinfo_set"
   ]
  },
  {
   "cell_type": "code",
   "execution_count": 251,
   "metadata": {},
   "outputs": [
    {
     "name": "stdout",
     "output_type": "stream",
     "text": [
      "set(['MARSHALL MEDICAL CENTER SOUTH', 'Score', 'City Hospital', 'Hospital Name', 0.98])\n",
      "set(['MARSHALL MEDICAL CENTER SOUTH', 'Score', 'Hospital Name', 0.98])\n"
     ]
    }
   ],
   "source": [
    "shortinfo_set.add('City Hospital') # 增加元素\n",
    "print shortinfo_set\n",
    "shortinfo_set.remove('City Hospital') # 删除元素\n",
    "print shortinfo_set"
   ]
  },
  {
   "cell_type": "code",
   "execution_count": 252,
   "metadata": {},
   "outputs": [],
   "source": [
    "# 集合的交集、并集、差集\n",
    "set1 = {1,2,3}\n",
    "set2 = {3,4,5}"
   ]
  },
  {
   "cell_type": "code",
   "execution_count": 253,
   "metadata": {},
   "outputs": [
    {
     "data": {
      "text/plain": [
       "{3}"
      ]
     },
     "execution_count": 253,
     "metadata": {},
     "output_type": "execute_result"
    }
   ],
   "source": [
    "set1 & set2 # 交集"
   ]
  },
  {
   "cell_type": "code",
   "execution_count": 254,
   "metadata": {},
   "outputs": [
    {
     "data": {
      "text/plain": [
       "{1, 2, 3, 4, 5}"
      ]
     },
     "execution_count": 254,
     "metadata": {},
     "output_type": "execute_result"
    }
   ],
   "source": [
    "set1 | set2 # 并集"
   ]
  },
  {
   "cell_type": "code",
   "execution_count": 255,
   "metadata": {},
   "outputs": [
    {
     "data": {
      "text/plain": [
       "{1, 2}"
      ]
     },
     "execution_count": 255,
     "metadata": {},
     "output_type": "execute_result"
    }
   ],
   "source": [
    "set1 - set2 # 差集"
   ]
  },
  {
   "cell_type": "markdown",
   "metadata": {},
   "source": [
    "# 控制结构"
   ]
  },
  {
   "cell_type": "markdown",
   "metadata": {},
   "source": [
    "## for 循环"
   ]
  },
  {
   "cell_type": "code",
   "execution_count": 256,
   "metadata": {},
   "outputs": [
    {
     "name": "stdout",
     "output_type": "stream",
     "text": [
      "1\n",
      "2\n",
      "3\n"
     ]
    }
   ],
   "source": [
    "for item in set1:\n",
    "    print item"
   ]
  },
  {
   "cell_type": "code",
   "execution_count": 257,
   "metadata": {},
   "outputs": [
    {
     "name": "stdout",
     "output_type": "stream",
     "text": [
      "0 Jilin\n",
      "1 University\n"
     ]
    }
   ],
   "source": [
    "# range函数\n",
    "jlu = ['Jilin','University']\n",
    "for index in range(len(jlu)):\n",
    "    print index, jlu[index]"
   ]
  },
  {
   "cell_type": "code",
   "execution_count": 258,
   "metadata": {},
   "outputs": [
    {
     "name": "stdout",
     "output_type": "stream",
     "text": [
      "0 Jilin\n",
      "1 University\n"
     ]
    }
   ],
   "source": [
    "# enumerate函数\n",
    "for index, item in enumerate(jlu):\n",
    "    print index, item"
   ]
  },
  {
   "cell_type": "code",
   "execution_count": 259,
   "metadata": {},
   "outputs": [
    {
     "name": "stdout",
     "output_type": "stream",
     "text": [
      "0 Jilin\n",
      "1 University\n"
     ]
    }
   ],
   "source": [
    "# zip函数\n",
    "for index, item in zip(range(len(jlu)),jlu):\n",
    "    print index, item"
   ]
  },
  {
   "cell_type": "markdown",
   "metadata": {},
   "source": [
    "## if 条件语句"
   ]
  },
  {
   "cell_type": "code",
   "execution_count": 260,
   "metadata": {},
   "outputs": [
    {
     "name": "stdout",
     "output_type": "stream",
     "text": [
      "negative\n"
     ]
    }
   ],
   "source": [
    "# if 条件语句\n",
    "review_sentiment = -1\n",
    "if review_sentiment > 0 :   \n",
    "    print 'positive'\n",
    "elif review_sentiment ==0:\n",
    "    print 'neutral'\n",
    "else: \n",
    "    print 'negative'"
   ]
  },
  {
   "cell_type": "markdown",
   "metadata": {},
   "source": [
    "## while 循环结构"
   ]
  },
  {
   "cell_type": "code",
   "execution_count": 261,
   "metadata": {},
   "outputs": [
    {
     "name": "stdout",
     "output_type": "stream",
     "text": [
      "review_sentiment equals 0\n",
      "review_sentiment equals 1\n",
      "review_sentiment equals 2\n",
      "review_sentiment equals 3\n",
      "review_sentiment equals 4\n",
      "review_sentiment equals 5\n"
     ]
    }
   ],
   "source": [
    "review_sentiment = -1\n",
    "while review_sentiment < 5:  \n",
    "    review_sentiment += 1\n",
    "    print 'review_sentiment equals %d' % review_sentiment"
   ]
  },
  {
   "cell_type": "markdown",
   "metadata": {},
   "source": [
    "# Python中的函数、类"
   ]
  },
  {
   "cell_type": "code",
   "execution_count": 262,
   "metadata": {},
   "outputs": [],
   "source": [
    "# 定义平方函数\n",
    "def square(x):\n",
    "    s = x*x\n",
    "    return s"
   ]
  },
  {
   "cell_type": "code",
   "execution_count": 263,
   "metadata": {},
   "outputs": [
    {
     "data": {
      "text/plain": [
       "9"
      ]
     },
     "execution_count": 263,
     "metadata": {},
     "output_type": "execute_result"
    }
   ],
   "source": [
    "square(3)"
   ]
  },
  {
   "cell_type": "markdown",
   "metadata": {},
   "source": [
    "## 变量作用域：局部变量与全局变量"
   ]
  },
  {
   "cell_type": "code",
   "execution_count": 264,
   "metadata": {},
   "outputs": [
    {
     "data": {
      "text/plain": [
       "4"
      ]
     },
     "execution_count": 264,
     "metadata": {},
     "output_type": "execute_result"
    }
   ],
   "source": [
    "def square(x):\n",
    "    global number # 局部变量转换为全局变量\n",
    "    number = 5.0\n",
    "    s = x*x\n",
    "    return s\n",
    "square(2)"
   ]
  },
  {
   "cell_type": "code",
   "execution_count": 265,
   "metadata": {},
   "outputs": [
    {
     "data": {
      "text/plain": [
       "5.0"
      ]
     },
     "execution_count": 265,
     "metadata": {},
     "output_type": "execute_result"
    }
   ],
   "source": [
    "number"
   ]
  },
  {
   "cell_type": "markdown",
   "metadata": {},
   "source": [
    "## 参数设定"
   ]
  },
  {
   "cell_type": "code",
   "execution_count": 266,
   "metadata": {},
   "outputs": [
    {
     "name": "stdout",
     "output_type": "stream",
     "text": [
      "5\n"
     ]
    }
   ],
   "source": [
    "# 按位置顺序传入\n",
    "def polynomial(x, y):\n",
    "    z = x+2*y\n",
    "    return z\n",
    "print polynomial(1, 2)"
   ]
  },
  {
   "cell_type": "code",
   "execution_count": 267,
   "metadata": {},
   "outputs": [
    {
     "name": "stdout",
     "output_type": "stream",
     "text": [
      "4\n"
     ]
    }
   ],
   "source": [
    "# 关键词传入\n",
    "print polynomial(y=1, x=2)"
   ]
  },
  {
   "cell_type": "code",
   "execution_count": 268,
   "metadata": {},
   "outputs": [
    {
     "name": "stdout",
     "output_type": "stream",
     "text": [
      "4\n"
     ]
    }
   ],
   "source": [
    "# 默认参数\n",
    "def polynomial(x, y=1):\n",
    "    z = x+2*y\n",
    "    return z\n",
    "print polynomial(x=2)"
   ]
  },
  {
   "cell_type": "code",
   "execution_count": 269,
   "metadata": {},
   "outputs": [
    {
     "name": "stdout",
     "output_type": "stream",
     "text": [
      "8\n",
      "8\n"
     ]
    }
   ],
   "source": [
    "# 不定长参数*args\n",
    "def polynomial(x, *args):\n",
    "    for item in args:\n",
    "        x += 2*item\n",
    "    return x\n",
    "print polynomial(2, 1, 2)\n",
    "print polynomial(2, *[1, 2]) # 列表传入"
   ]
  },
  {
   "cell_type": "code",
   "execution_count": 270,
   "metadata": {},
   "outputs": [
    {
     "name": "stdout",
     "output_type": "stream",
     "text": [
      "9\n"
     ]
    }
   ],
   "source": [
    "# 不定长参数**kwargs\n",
    "def polynomial(x, **kwargs):\n",
    "    y = kwargs.pop('y', None)\n",
    "    z = kwargs.pop('z', None)\n",
    "    result = x+2*y+3*z\n",
    "    return result\n",
    "\n",
    "print polynomial(x=1, y=1, z=2)"
   ]
  },
  {
   "cell_type": "markdown",
   "metadata": {},
   "source": [
    "## lambda函数和map函数"
   ]
  },
  {
   "cell_type": "code",
   "execution_count": 271,
   "metadata": {},
   "outputs": [
    {
     "data": {
      "text/plain": [
       "9"
      ]
     },
     "execution_count": 271,
     "metadata": {},
     "output_type": "execute_result"
    }
   ],
   "source": [
    "# lambda函数\n",
    "square = lambda x:x*x\n",
    "square(3)"
   ]
  },
  {
   "cell_type": "code",
   "execution_count": 272,
   "metadata": {},
   "outputs": [
    {
     "data": {
      "text/plain": [
       "[0, 1, 4, 9, 16]"
      ]
     },
     "execution_count": 272,
     "metadata": {},
     "output_type": "execute_result"
    }
   ],
   "source": [
    "## map函数\n",
    "map(square,range(5)) # 列表中的元素依次执行函数"
   ]
  },
  {
   "cell_type": "markdown",
   "metadata": {},
   "source": [
    "## 类"
   ]
  },
  {
   "cell_type": "code",
   "execution_count": 273,
   "metadata": {},
   "outputs": [
    {
     "name": "stdout",
     "output_type": "stream",
     "text": [
      "Hello, Jlu\n",
      "HELLO, JLU!\n"
     ]
    }
   ],
   "source": [
    "# 定义欢迎用户的类\n",
    "class Greeter(object):\n",
    "    \n",
    "    # 构造方法\n",
    "    def __init__(self, name):\n",
    "        self.name = name  # 初始化属性\n",
    "        \n",
    "    # 实例方法\n",
    "    def greet(self, upper=False):\n",
    "        if upper:\n",
    "            print 'HELLO, %s!' % self.name.upper()\n",
    "        else:\n",
    "            print 'Hello, %s' % self.name\n",
    "        \n",
    "g = Greeter('Jlu')  # 创建Greeter类的一个实例（对象），并初始化实例属性\n",
    "g.greet()            # 调用类中的方法，使用默认参数\n",
    "g.greet(upper=True)   # 调用类中的方法，自定义参数"
   ]
  },
  {
   "cell_type": "code",
   "execution_count": 274,
   "metadata": {},
   "outputs": [],
   "source": [
    "# 类的继承\n",
    "class Welcome(Greeter):\n",
    "    pass"
   ]
  },
  {
   "cell_type": "code",
   "execution_count": 275,
   "metadata": {},
   "outputs": [
    {
     "name": "stdout",
     "output_type": "stream",
     "text": [
      "Jlu\n",
      "Hello, Jlu\n",
      "HELLO, JLU!\n"
     ]
    }
   ],
   "source": [
    "w = Welcome('Jlu')\n",
    "print w.name\n",
    "w.greet()\n",
    "w.greet(upper=True)"
   ]
  }
 ],
 "metadata": {
  "celltoolbar": "Attachments",
  "kernelspec": {
   "display_name": "Python [default]",
   "language": "python",
   "name": "python2"
  },
  "language_info": {
   "codemirror_mode": {
    "name": "ipython",
    "version": 2
   },
   "file_extension": ".py",
   "mimetype": "text/x-python",
   "name": "python",
   "nbconvert_exporter": "python",
   "pygments_lexer": "ipython2",
   "version": "2.7.14"
  },
  "toc": {
   "nav_menu": {
    "height": "142px",
    "width": "294px"
   },
   "number_sections": true,
   "sideBar": true,
   "skip_h1_title": false,
   "title_cell": "Table of Contents",
   "title_sidebar": "Contents",
   "toc_cell": true,
   "toc_position": {
    "height": "calc(100% - 180px)",
    "left": "10px",
    "top": "150px",
    "width": "165px"
   },
   "toc_section_display": true,
   "toc_window_display": true
  }
 },
 "nbformat": 4,
 "nbformat_minor": 2
}
